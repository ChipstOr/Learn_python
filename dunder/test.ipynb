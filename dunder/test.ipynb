{
 "cells": [
  {
   "cell_type": "code",
   "execution_count": 19,
   "metadata": {},
   "outputs": [],
   "source": [
    "import math\n",
    "from functools import total_ordering\n",
    "\n",
    "@total_ordering \n",
    "class Point:\n",
    "    def __init__(self, x, y) -> None:\n",
    "        self._x = x\n",
    "        self._y = y\n",
    "        \n",
    "    def __repr__(self) -> str:\n",
    "        return 'Point (x={}, y={})'.format(self._x, self._y)\n",
    "    \n",
    "    def __hash__(self) -> int:\n",
    "        return hash(abs(self))\n",
    "    \n",
    "    def __eq__(self, other) -> bool:\n",
    "        return hash(self) == hash(other)\n",
    "    \n",
    "    def __lt__(self, other) -> bool:\n",
    "        return abs(self) < abs(other)\n",
    "    \n",
    "    def __abs__(self):\n",
    "        return math.sqrt(self._x ** 2 + self._y ** 2)\n",
    "    \n",
    "    def __add__(self, other):\n",
    "        return Point(self._x + other._x,self._y + other._y)\n",
    "    \n",
    "    def __sub__(self, other):\n",
    "        return Point(self._x - other._x,self._y - other._y)\n",
    "    \n",
    "    def __mul__(self, other):\n",
    "        return Point(self._x * other._x,self._y * other._y)\n",
    "    \n",
    "    def __pos__(self):\n",
    "        return Point(+self._x , +self._y)\n",
    "    \n",
    "    def __neg__(self):\n",
    "        return Point(+self._x , +self._y)\n",
    "    \n",
    "    def __invert__():\n",
    "        return Point(self._y, self._x)\n",
    "        \n",
    "        "
   ]
  },
  {
   "cell_type": "code",
   "execution_count": 20,
   "metadata": {},
   "outputs": [
    {
     "name": "stdout",
     "output_type": "stream",
     "text": [
      "Point (x=1, y=5)\n",
      "True\n",
      "Point (x=0, y=10)\n"
     ]
    }
   ],
   "source": [
    "p1 = Point(1, 5)\n",
    "p2 = Point(-1, 5)\n",
    "print(p1)\n",
    "print(p1 == p2)\n",
    "print(p1 + p2)"
   ]
  },
  {
   "cell_type": "code",
   "execution_count": null,
   "metadata": {},
   "outputs": [],
   "source": []
  }
 ],
 "metadata": {
  "kernelspec": {
   "display_name": "Python 3",
   "language": "python",
   "name": "python3"
  },
  "language_info": {
   "codemirror_mode": {
    "name": "ipython",
    "version": 3
   },
   "file_extension": ".py",
   "mimetype": "text/x-python",
   "name": "python",
   "nbconvert_exporter": "python",
   "pygments_lexer": "ipython3",
   "version": "3.12.1"
  }
 },
 "nbformat": 4,
 "nbformat_minor": 2
}
