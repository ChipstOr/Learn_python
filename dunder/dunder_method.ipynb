{
 "cells": [
  {
   "cell_type": "code",
   "execution_count": 30,
   "metadata": {},
   "outputs": [],
   "source": [
    "from functools import total_ordering\n",
    "from typing import Any\n",
    "\n",
    "@total_ordering\n",
    "class Millimeter:\n",
    "    label = 'мм'\n",
    "    ratio = 1  # Отношение определяемой еденицы измерения к миллиметрам\n",
    "\n",
    "    def __init__(self, value: Any) -> None:\n",
    "        if isinstance(value, (int, float)):\n",
    "            self._value = float(value)\n",
    "        elif isinstance(value, Millimeter):\n",
    "            self._value = float(value.as_millimeters()) / self.ratio\n",
    "        else:\n",
    "            raise TypeError(\"Unsupported type for value\")\n",
    "\n",
    "    def __eq__(self, other: Any) -> bool:\n",
    "        return hash(self) == hash(other)\n",
    "\n",
    "    def __lt__(self, other: Any) -> bool:\n",
    "        if isinstance(other, Millimeter):\n",
    "            return self._value < other.as_millimeters() / self.ratio\n",
    "        elif isinstance(other, (int, float)):\n",
    "            return self._value < other\n",
    "        else:\n",
    "            raise TypeError(\"Cannot compare with type {}\".format(type(other)))\n",
    "\n",
    "    def as_millimeters(self) -> float:\n",
    "        \"\"\"Возвращает значение длины в миллиметах.\n",
    "\n",
    "        :rtype: float\n",
    "        :return: Значение округленное до 5 знаков после запятой\n",
    "        \"\"\"\n",
    "        return round(self._value * self.ratio, 5)\n",
    "\n",
    "class Centimeter(Millimeter):\n",
    "    label = 'см'\n",
    "    ratio = 10\n",
    "\n",
    "class Meter(Millimeter):\n",
    "    label = 'метр'\n",
    "    ratio = 1000\n",
    "\n",
    "class Inch(Millimeter):\n",
    "    label = 'дюйм'\n",
    "    ratio = 25.4"
   ]
  },
  {
   "cell_type": "code",
   "execution_count": 31,
   "metadata": {},
   "outputs": [
    {
     "name": "stdout",
     "output_type": "stream",
     "text": [
      "10.0\n",
      "100.0\n",
      "1000.0\n",
      "25.4\n"
     ]
    }
   ],
   "source": [
    "mm = Millimeter(10)\n",
    "cm = Centimeter(10)\n",
    "m = Meter(1)\n",
    "inch = Inch(1)\n",
    "\n",
    "print(mm.as_millimeters())  # 10.0\n",
    "print(cm.as_millimeters())  # 10.0\n",
    "print(m.as_millimeters())   # 10.0\n",
    "print(inch.as_millimeters())  # 25.4"
   ]
  }
 ],
 "metadata": {
  "kernelspec": {
   "display_name": "Python 3",
   "language": "python",
   "name": "python3"
  },
  "language_info": {
   "codemirror_mode": {
    "name": "ipython",
    "version": 3
   },
   "file_extension": ".py",
   "mimetype": "text/x-python",
   "name": "python",
   "nbconvert_exporter": "python",
   "pygments_lexer": "ipython3",
   "version": "3.12.1"
  }
 },
 "nbformat": 4,
 "nbformat_minor": 2
}
